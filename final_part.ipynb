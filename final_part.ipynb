{
 "cells": [
  {
   "cell_type": "code",
   "execution_count": null,
   "id": "7a1942a6",
   "metadata": {},
   "outputs": [],
   "source": [
    "df.to_csv('processed_tasks.csv' , index = False)"
   ]
  },
  {
   "cell_type": "code",
   "execution_count": null,
   "id": "168c519b",
   "metadata": {},
   "outputs": [],
   "source": [
    "import json\n",
    "from sklearn.metrics import classification_report, confusion_matrix\n",
    "\n",
    "# Save classification report\n",
    "report = classification_report(y_test_log_combine, y_pred_logistic_combine, output_dict=True)\n",
    "with open(\"metrics.json\", \"w\") as f:\n",
    "    json.dump(report, f)\n",
    "\n",
    "# Save confusion matrix\n",
    "cm = confusion_matrix(y_test_log_combine, y_pred_logistic_combine)\n",
    "pd.DataFrame(cm).to_csv(\"confusion_matrix.csv\", index=False)\n",
    "\n",
    "# Save best grid search params (optional)\n",
    "with open(\"best_params.json\", \"w\") as f:\n",
    "    json.dump(grid.best_params_, f)\n"
   ]
  }
 ],
 "metadata": {
  "language_info": {
   "name": "python"
  }
 },
 "nbformat": 4,
 "nbformat_minor": 5
}
